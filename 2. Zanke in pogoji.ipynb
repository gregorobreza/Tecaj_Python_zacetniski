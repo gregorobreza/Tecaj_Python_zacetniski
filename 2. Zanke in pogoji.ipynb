{
 "cells": [
  {
   "cell_type": "markdown",
   "metadata": {},
   "source": [
    "# 1. Boolovi (logični) operatorji"
   ]
  },
  {
   "cell_type": "markdown",
   "metadata": {},
   "source": [
    "Imamo dve vrednosti ```True``` ali ```False```. Največ se uporabljavo v pogojnih stavkih in zankah, kjer preverjamo ali nekaj drži ali ne drži, ter na podlagi tega program deluje."
   ]
  },
  {
   "cell_type": "code",
   "execution_count": 1,
   "metadata": {},
   "outputs": [],
   "source": [
    "jeres = True"
   ]
  },
  {
   "cell_type": "code",
   "execution_count": 2,
   "metadata": {},
   "outputs": [
    {
     "data": {
      "text/plain": [
       "True"
      ]
     },
     "execution_count": 2,
     "metadata": {},
     "output_type": "execute_result"
    }
   ],
   "source": [
    "jeres"
   ]
  },
  {
   "cell_type": "code",
   "execution_count": 3,
   "metadata": {},
   "outputs": [],
   "source": [
    "nires = False"
   ]
  },
  {
   "cell_type": "code",
   "execution_count": 4,
   "metadata": {},
   "outputs": [
    {
     "data": {
      "text/plain": [
       "False"
      ]
     },
     "execution_count": 4,
     "metadata": {},
     "output_type": "execute_result"
    }
   ],
   "source": [
    "nires"
   ]
  },
  {
   "cell_type": "code",
   "execution_count": 5,
   "metadata": {},
   "outputs": [
    {
     "data": {
      "text/plain": [
       "False"
      ]
     },
     "execution_count": 5,
     "metadata": {},
     "output_type": "execute_result"
    }
   ],
   "source": [
    "True and False"
   ]
  },
  {
   "cell_type": "code",
   "execution_count": 6,
   "metadata": {},
   "outputs": [
    {
     "data": {
      "text/plain": [
       "True"
      ]
     },
     "execution_count": 6,
     "metadata": {},
     "output_type": "execute_result"
    }
   ],
   "source": [
    "True or False"
   ]
  },
  {
   "cell_type": "code",
   "execution_count": 7,
   "metadata": {},
   "outputs": [
    {
     "data": {
      "text/plain": [
       "False"
      ]
     },
     "execution_count": 7,
     "metadata": {},
     "output_type": "execute_result"
    }
   ],
   "source": [
    "not True"
   ]
  },
  {
   "cell_type": "code",
   "execution_count": 8,
   "metadata": {},
   "outputs": [
    {
     "data": {
      "text/plain": [
       "True"
      ]
     },
     "execution_count": 8,
     "metadata": {},
     "output_type": "execute_result"
    }
   ],
   "source": [
    "not False"
   ]
  },
  {
   "cell_type": "markdown",
   "metadata": {},
   "source": [
    "***"
   ]
  },
  {
   "cell_type": "markdown",
   "metadata": {},
   "source": [
    "## Primerjalni operatorji"
   ]
  },
  {
   "cell_type": "code",
   "execution_count": 9,
   "metadata": {},
   "outputs": [
    {
     "data": {
      "text/plain": [
       "True"
      ]
     },
     "execution_count": 9,
     "metadata": {},
     "output_type": "execute_result"
    }
   ],
   "source": [
    "55 == 55"
   ]
  },
  {
   "cell_type": "code",
   "execution_count": 10,
   "metadata": {},
   "outputs": [
    {
     "data": {
      "text/plain": [
       "False"
      ]
     },
     "execution_count": 10,
     "metadata": {},
     "output_type": "execute_result"
    }
   ],
   "source": [
    "555 == 88"
   ]
  },
  {
   "cell_type": "code",
   "execution_count": 11,
   "metadata": {},
   "outputs": [
    {
     "data": {
      "text/plain": [
       "False"
      ]
     },
     "execution_count": 11,
     "metadata": {},
     "output_type": "execute_result"
    }
   ],
   "source": [
    "55 > 158"
   ]
  },
  {
   "cell_type": "code",
   "execution_count": 13,
   "metadata": {},
   "outputs": [
    {
     "data": {
      "text/plain": [
       "True"
      ]
     },
     "execution_count": 13,
     "metadata": {},
     "output_type": "execute_result"
    }
   ],
   "source": [
    "55 <= 55.5 and 55 <= 78"
   ]
  },
  {
   "cell_type": "code",
   "execution_count": 14,
   "metadata": {},
   "outputs": [
    {
     "data": {
      "text/plain": [
       "False"
      ]
     },
     "execution_count": 14,
     "metadata": {},
     "output_type": "execute_result"
    }
   ],
   "source": [
    "55 != 55"
   ]
  },
  {
   "cell_type": "code",
   "execution_count": 15,
   "metadata": {},
   "outputs": [
    {
     "data": {
      "text/plain": [
       "True"
      ]
     },
     "execution_count": 15,
     "metadata": {},
     "output_type": "execute_result"
    }
   ],
   "source": [
    "55 != 85"
   ]
  },
  {
   "cell_type": "code",
   "execution_count": 16,
   "metadata": {},
   "outputs": [],
   "source": [
    "test1 = \"okno\"\n",
    "test2 = \"vrata\"\n"
   ]
  },
  {
   "cell_type": "code",
   "execution_count": 17,
   "metadata": {},
   "outputs": [
    {
     "data": {
      "text/plain": [
       "False"
      ]
     },
     "execution_count": 17,
     "metadata": {},
     "output_type": "execute_result"
    }
   ],
   "source": [
    "test1 == test2"
   ]
  },
  {
   "cell_type": "code",
   "execution_count": 18,
   "metadata": {},
   "outputs": [],
   "source": [
    "test3 = \"okno\""
   ]
  },
  {
   "cell_type": "code",
   "execution_count": 19,
   "metadata": {},
   "outputs": [
    {
     "data": {
      "text/plain": [
       "True"
      ]
     },
     "execution_count": 19,
     "metadata": {},
     "output_type": "execute_result"
    }
   ],
   "source": [
    "test1 == test3"
   ]
  },
  {
   "cell_type": "markdown",
   "metadata": {},
   "source": [
    "***"
   ]
  },
  {
   "cell_type": "markdown",
   "metadata": {},
   "source": [
    "# 2. If stavki"
   ]
  },
  {
   "cell_type": "code",
   "execution_count": 22,
   "metadata": {},
   "outputs": [
    {
     "name": "stdout",
     "output_type": "stream",
     "text": [
      "Kaj če gremo na pivo?\n",
      "ostajam odgovoren državljan in ne grem nikamor itak je vse zaprto\n"
     ]
    }
   ],
   "source": [
    "vreme = \"oblačno\" \n",
    "covid_odgovornost = 10 #od 1 do 10, 10 najbolj odgovorno\n",
    "\n",
    "print(\"Kaj če gremo na pivo?\")\n",
    "\n",
    "if vreme == \"naravna katastrofa\":\n",
    "    print(\"Dns bo bl težka vreme je slabo.\")\n",
    "    \n",
    "else:   \n",
    "    if covid_odgovornost >= 8 and covid_odgovornost <= 10:\n",
    "        print(\"ostajam odgovoren državljan in ne grem \" \n",
    "              \"nikamor itak je vse zaprto\")\n",
    "    elif covid_odgovornost >= 4 and covid_odgovornost < 8:\n",
    "        print(\"čeprav je vse zaprto se dobimo pr \" \n",
    "              \"men sej nas ne bo več k pet\")\n",
    "    elif covid_odgovornost > 0 and covid_odgovornost < 4:\n",
    "        print(\"poklič vse kolege žurka pr men\")\n",
    "    else:\n",
    "        print(\"ne razumeme lestvice odgovornosti\")       "
   ]
  },
  {
   "cell_type": "code",
   "execution_count": null,
   "metadata": {},
   "outputs": [],
   "source": []
  },
  {
   "cell_type": "code",
   "execution_count": null,
   "metadata": {},
   "outputs": [],
   "source": []
  },
  {
   "cell_type": "markdown",
   "metadata": {},
   "source": [
    "# Naloge"
   ]
  },
  {
   "cell_type": "markdown",
   "metadata": {},
   "source": [
    "## 1. Sodo ali liho"
   ]
  },
  {
   "cell_type": "markdown",
   "metadata": {},
   "source": [
    "Preveri ali je vneseno število sodo ali liho z uporabo if stavka."
   ]
  },
  {
   "cell_type": "code",
   "execution_count": 25,
   "metadata": {},
   "outputs": [
    {
     "name": "stdout",
     "output_type": "stream",
     "text": [
      "Izbrano število:7\n",
      "liho\n"
     ]
    }
   ],
   "source": [
    "stevilo = int(input(\"Izbrano število:\"))\n",
    "\n",
    "if stevilo % 2 == 0:\n",
    "    print(\"sodo\")\n",
    "    \n",
    "else:\n",
    "    print(\"liho\")"
   ]
  },
  {
   "cell_type": "markdown",
   "metadata": {},
   "source": [
    "## 2. Ploščina trikotnika"
   ]
  },
  {
   "cell_type": "markdown",
   "metadata": {},
   "source": [
    "Ploščino trikotnika s stranicami a, b, c se lahko izračuna po Heronovem obrazcu:\n",
    "$p = \\sqrt{s(s-a)(s-b)(s-c)}$, kjer je s velikost polobsega: $s=\\frac{(a+b+c)}{2}$.\n",
    "\n",
    "\n",
    "Napiši program, ki upraša uporabnika po stranicah trikotnika in vrne ploščino. Prgram naj preveri smiselnost vnesenih podatkov (da trikotnik sploh lahko obstaja). "
   ]
  },
  {
   "cell_type": "code",
   "execution_count": 28,
   "metadata": {},
   "outputs": [
    {
     "name": "stdout",
     "output_type": "stream",
     "text": [
      "vnesi dolžino prve stranice trikotnika: 1\n",
      "vnesi dolžino druge stranice trikotnika: 1\n",
      "vnesi dolžino tretje stranice trikotnika: 15\n",
      "tak trikotnik ne obstaja\n"
     ]
    }
   ],
   "source": [
    "a = float(input(\"vnesi dolžino prve stranice trikotnika: \"))\n",
    "\n",
    "b = float(input(\"vnesi dolžino druge stranice trikotnika: \"))\n",
    "\n",
    "c = float(input(\"vnesi dolžino tretje stranice trikotnika: \"))\n",
    "\n",
    "s = (a+b+c)/2\n",
    "\n",
    "p2 = s*(s-a)*(s-b)*(s-c)\n",
    "\n",
    "if p2 < 0:\n",
    "    print(\"tak trikotnik ne obstaja\")\n",
    "    \n",
    "else:\n",
    "    p = p2**(1/2)\n",
    "    print(\"ploščina trikotnika\", p)"
   ]
  },
  {
   "cell_type": "markdown",
   "metadata": {},
   "source": [
    "## 3. Izračun pasjih let "
   ]
  },
  {
   "cell_type": "markdown",
   "metadata": {},
   "source": [
    "Napiši Python program za izračun starosti psa v pasjih letih. Upoštevaj, da sta prvi dve pasji leti 10,5 človeških in po tem 4 človeške. Preveri tudi, da uporabnik ni vnesel negativnega števila. Ž"
   ]
  },
  {
   "cell_type": "code",
   "execution_count": 33,
   "metadata": {},
   "outputs": [
    {
     "name": "stdout",
     "output_type": "stream",
     "text": [
      "Vpiši starost psa v človeških letih:-1\n",
      "prosim vnesi pozitivno število\n",
      "Starost psa v pasjih letih znaša: definiral si negativno število\n"
     ]
    }
   ],
   "source": [
    "norm_leta = int(input(\"Vpiši starost psa v človeških letih:\"))\n",
    "\n",
    "if norm_leta < 0:\n",
    "    print(\"prosim vnesi pozitivno število\")\n",
    "    pasja_leta = \"definiral si negativno število\"\n",
    "    \n",
    "elif norm_leta <= 2:\n",
    "    pasja_leta = norm_leta * 10.5\n",
    "    \n",
    "else:\n",
    "    pasja_leta = 2 * 10.5 + (norm_leta-2) * 4\n",
    "    \n",
    "print(\"Starost psa v pasjih letih znaša:\" , pasja_leta)"
   ]
  },
  {
   "cell_type": "markdown",
   "metadata": {},
   "source": [
    "poglej or"
   ]
  },
  {
   "cell_type": "code",
   "execution_count": null,
   "metadata": {},
   "outputs": [],
   "source": []
  },
  {
   "cell_type": "code",
   "execution_count": 2,
   "metadata": {},
   "outputs": [],
   "source": [
    "seznam_kvadratov = []\n",
    "n = 57\n",
    "for i in range(1, 21):\n",
    "    if i**2 >= n:\n",
    "        seznam_kvadratov.append(i**2)"
   ]
  },
  {
   "cell_type": "code",
   "execution_count": 3,
   "metadata": {},
   "outputs": [
    {
     "name": "stdout",
     "output_type": "stream",
     "text": [
      "[64, 81, 100, 121, 144, 169, 196, 225, 256, 289, 324, 361, 400]\n"
     ]
    }
   ],
   "source": [
    "print(seznam_kvadratov)"
   ]
  },
  {
   "cell_type": "markdown",
   "metadata": {},
   "source": [
    "## 4. BMI"
   ]
  },
  {
   "cell_type": "markdown",
   "metadata": {},
   "source": [
    "Izdelaj BMI kalkulator, ki uporabnika upraša po višini [cm] in masa [kg], vrne pa index in v katerem področju se nahaja. Zgornja meja je 25, spodnja pa 18.5. \n",
    "\n",
    "Enačba (masa v kg, višina v m): $BMI = \\frac{m}{h^2}$  "
   ]
  },
  {
   "cell_type": "code",
   "execution_count": 34,
   "metadata": {},
   "outputs": [
    {
     "name": "stdout",
     "output_type": "stream",
     "text": [
      "Višina v cm:180\n",
      "teža v kg:85\n",
      "Vaš BMI znaša 26.234567901234566 kar je previsoko\n"
     ]
    }
   ],
   "source": [
    "visina = float(input(\"Višina v cm:\"))\n",
    "teza = float(input(\"teža v kg:\"))\n",
    "\n",
    "BMI = teza/(visina/100)**2\n",
    "\n",
    "if BMI > 25:\n",
    "    print(\"Vaš BMI znaša\", BMI, \"kar je previsoko\")\n",
    "    \n",
    "elif BMI <18.5:\n",
    "    print(\"Vaš BMI znaša\", BMI, \"kar je prenizko\")\n",
    "    \n",
    "else:\n",
    "    print(\"Vaš BMI znaša\", BMI, \"torej ste prfektni\")"
   ]
  },
  {
   "cell_type": "code",
   "execution_count": null,
   "metadata": {},
   "outputs": [],
   "source": []
  },
  {
   "cell_type": "markdown",
   "metadata": {},
   "source": [
    "## primer ```or```"
   ]
  },
  {
   "cell_type": "code",
   "execution_count": 37,
   "metadata": {},
   "outputs": [
    {
     "name": "stdout",
     "output_type": "stream",
     "text": [
      "7 ni deljiva s 3 ali s 5\n"
     ]
    }
   ],
   "source": [
    "cifra = 7\n",
    "\n",
    "\n",
    "if cifra%3 == 0 or cifra%5 == 0:\n",
    "    print(cifra, \"je deljivo s 3 ali s 5 ali z obema\")\n",
    "    \n",
    "else:\n",
    "    print(cifra, \"ni deljiva s 3 ali s 5\")"
   ]
  },
  {
   "cell_type": "code",
   "execution_count": 38,
   "metadata": {},
   "outputs": [
    {
     "name": "stdout",
     "output_type": "stream",
     "text": [
      "7 ni deljivo s 3 ali s 5 ali z obema\n"
     ]
    }
   ],
   "source": [
    "cifra = 7\n",
    "\n",
    "\n",
    "if  not (cifra%3 == 0 or cifra%5 == 0):\n",
    "    print(cifra, \"ni deljivo s 3 ali s 5 ali z obema\")\n",
    "    \n",
    "else:\n",
    "    print(cifra, \"je deljiva s 3 ali s 5\")"
   ]
  },
  {
   "cell_type": "code",
   "execution_count": null,
   "metadata": {},
   "outputs": [],
   "source": []
  },
  {
   "cell_type": "code",
   "execution_count": 41,
   "metadata": {},
   "outputs": [
    {
     "name": "stdout",
     "output_type": "stream",
     "text": [
      "15 je deljiva s 3 in s 5 hkrati\n"
     ]
    }
   ],
   "source": [
    "cifra = 15\n",
    "\n",
    "\n",
    "if cifra%3 == 0 and cifra%5 == 0:\n",
    "    print(cifra, \"je deljiva s 3 in s 5 hkrati\")\n",
    "    \n",
    "else:\n",
    "    print(cifra, \"ni deljiva s3 in 5 hkrati\")"
   ]
  },
  {
   "cell_type": "code",
   "execution_count": null,
   "metadata": {},
   "outputs": [],
   "source": []
  },
  {
   "cell_type": "markdown",
   "metadata": {},
   "source": [
    "*****"
   ]
  },
  {
   "cell_type": "markdown",
   "metadata": {},
   "source": [
    "# 3. While zanke"
   ]
  },
  {
   "cell_type": "code",
   "execution_count": 44,
   "metadata": {},
   "outputs": [
    {
     "name": "stdout",
     "output_type": "stream",
     "text": [
      "19\n",
      "18\n",
      "17\n",
      "16\n",
      "15\n",
      "14\n",
      "13\n",
      "12\n",
      "11\n",
      "10\n",
      "9\n",
      "8\n",
      "7\n",
      "6\n",
      "5\n",
      "4\n",
      "3\n",
      "2\n",
      "1\n",
      "0\n"
     ]
    }
   ],
   "source": [
    "n = 20\n",
    "\n",
    "while n > 0:\n",
    "    n = n - 1\n",
    "    print(n)"
   ]
  },
  {
   "cell_type": "code",
   "execution_count": 45,
   "metadata": {},
   "outputs": [
    {
     "name": "stdout",
     "output_type": "stream",
     "text": [
      "trenutno število: 0\n",
      "trenutno število: 1\n",
      "trenutno število: 2\n",
      "trenutno število: 3\n",
      "trenutno število: 4\n",
      "trenutno število: 5\n",
      "trenutno število: 6\n",
      "trenutno število: 7\n",
      "trenutno število: 8\n",
      "trenutno število: 9\n"
     ]
    }
   ],
   "source": [
    "n = 0\n",
    "\n",
    "while n < 10:\n",
    "    print(\"trenutno število:\", n)\n",
    "    n += 1"
   ]
  },
  {
   "cell_type": "code",
   "execution_count": 46,
   "metadata": {},
   "outputs": [
    {
     "name": "stdout",
     "output_type": "stream",
     "text": [
      "Vpiši številko:5\n",
      "Liho\n",
      "Vpiši številko:1\n",
      "Liho\n",
      "Vpiši številko:3\n",
      "Liho\n",
      "Vpiši številko:7\n",
      "Liho\n",
      "Vpiši številko:7\n",
      "Liho\n",
      "Vpiši številko:8\n",
      "sodo\n",
      "Vpiši številko:5\n",
      "Liho\n",
      "Vpiši številko:\n"
     ]
    },
    {
     "ename": "ValueError",
     "evalue": "invalid literal for int() with base 10: ''",
     "output_type": "error",
     "traceback": [
      "\u001b[1;31m---------------------------------------------------------------------------\u001b[0m",
      "\u001b[1;31mValueError\u001b[0m                                Traceback (most recent call last)",
      "\u001b[1;32m<ipython-input-46-0435120eb407>\u001b[0m in \u001b[0;36m<module>\u001b[1;34m\u001b[0m\n\u001b[0;32m      1\u001b[0m \u001b[1;32mwhile\u001b[0m \u001b[1;32mTrue\u001b[0m\u001b[1;33m:\u001b[0m\u001b[1;33m\u001b[0m\u001b[1;33m\u001b[0m\u001b[0m\n\u001b[1;32m----> 2\u001b[1;33m     \u001b[0mnum\u001b[0m \u001b[1;33m=\u001b[0m \u001b[0mint\u001b[0m\u001b[1;33m(\u001b[0m\u001b[0minput\u001b[0m\u001b[1;33m(\u001b[0m\u001b[1;34m\"Vpiši številko:\"\u001b[0m\u001b[1;33m)\u001b[0m\u001b[1;33m)\u001b[0m\u001b[1;33m\u001b[0m\u001b[1;33m\u001b[0m\u001b[0m\n\u001b[0m\u001b[0;32m      3\u001b[0m     \u001b[1;32mif\u001b[0m \u001b[0mnum\u001b[0m \u001b[1;33m%\u001b[0m \u001b[1;36m2\u001b[0m \u001b[1;33m==\u001b[0m \u001b[1;36m0\u001b[0m\u001b[1;33m:\u001b[0m\u001b[1;33m\u001b[0m\u001b[1;33m\u001b[0m\u001b[0m\n\u001b[0;32m      4\u001b[0m         \u001b[0mprint\u001b[0m\u001b[1;33m(\u001b[0m\u001b[1;34m\"sodo\"\u001b[0m\u001b[1;33m)\u001b[0m\u001b[1;33m\u001b[0m\u001b[1;33m\u001b[0m\u001b[0m\n\u001b[0;32m      5\u001b[0m     \u001b[1;32melse\u001b[0m\u001b[1;33m:\u001b[0m\u001b[1;33m\u001b[0m\u001b[1;33m\u001b[0m\u001b[0m\n",
      "\u001b[1;31mValueError\u001b[0m: invalid literal for int() with base 10: ''"
     ]
    }
   ],
   "source": [
    "while True:\n",
    "    num = int(input(\"Vpiši številko:\"))\n",
    "    if num % 2 == 0:\n",
    "        print(\"sodo\")\n",
    "    else:\n",
    "        print(\"Liho\")"
   ]
  },
  {
   "cell_type": "markdown",
   "metadata": {},
   "source": [
    "## Naloge"
   ]
  },
  {
   "cell_type": "markdown",
   "metadata": {},
   "source": [
    "## 1. Trgovina "
   ]
  },
  {
   "cell_type": "markdown",
   "metadata": {},
   "source": [
    "V trgovini po 3 morajo stranke vedno kupiti točno 3 artikle. Napiši program za blagajno z uporabo while zanke, ki upraša prodajalca po ceni artikla natanko trikrat. "
   ]
  },
  {
   "cell_type": "code",
   "execution_count": 48,
   "metadata": {},
   "outputs": [
    {
     "name": "stdout",
     "output_type": "stream",
     "text": [
      "Cena izdelka:5\n",
      "Cena izdelka:10\n",
      "Cena izdelka:10\n",
      "Skupna cena znaša:  25.0 €. Hvala za nakup\n"
     ]
    }
   ],
   "source": [
    "n = 0\n",
    "vsota = 0\n",
    "\n",
    "while n < 3:\n",
    "    cena = float(input(\"Cena izdelka:\"))\n",
    "    vsota += cena\n",
    "    n += 1\n",
    "    \n",
    "print(\"Skupna cena znaša: \", vsota, \"€. Hvala za nakup\")"
   ]
  },
  {
   "cell_type": "markdown",
   "metadata": {},
   "source": []
  },
  {
   "cell_type": "code",
   "execution_count": 51,
   "metadata": {},
   "outputs": [
    {
     "name": "stdout",
     "output_type": "stream",
     "text": [
      "Cena izdelka:0\n",
      "Skupna cena znaša:  0.0 €. Hvala za nakup\n"
     ]
    }
   ],
   "source": [
    "vsota = 0\n",
    "cena = 100\n",
    "\n",
    "while cena != 0 :\n",
    "    cena = float(input(\"Cena izdelka:\"))\n",
    "    vsota += cena\n",
    "    \n",
    "print(\"Skupna cena znaša: \", vsota, \"€. Hvala za nakup\")"
   ]
  },
  {
   "cell_type": "code",
   "execution_count": null,
   "metadata": {},
   "outputs": [],
   "source": []
  },
  {
   "cell_type": "code",
   "execution_count": null,
   "metadata": {},
   "outputs": [],
   "source": []
  },
  {
   "cell_type": "markdown",
   "metadata": {},
   "source": [
    "## 2. Izbira varnega gesla "
   ]
  },
  {
   "cell_type": "markdown",
   "metadata": {},
   "source": [
    "Napišite program, ki bo preverjal vnešeno geslo ali je v skladu z naslednjimi zahtevami:\n",
    "- je daljše kot 6 znakov a krajše kot 12\n",
    "- vsebuje vsaj eno malo tiskano [a-z] in vsaj eno veliko [A-Z] tiskano črko\n",
    "- vsaj eno število [0-9]\n",
    "- vsaj eden izmed znakov [$#@]\n",
    "\n",
    "Pomembno! program naj sprašuje po geslu toliko časa dokler to ne bo v skladu z zahtevami. Bodi tudi pozoren , da gesnlo ne vsebuje presledkov!\n",
    "\n",
    "Namig: uporabi vgrajen modul ```re```"
   ]
  },
  {
   "cell_type": "code",
   "execution_count": 4,
   "metadata": {},
   "outputs": [
    {
     "name": "stdout",
     "output_type": "stream",
     "text": [
      "Input your passwordgregor12\n",
      "Not a Valid Password. Try again:\n",
      "Input your passwordGregor12#\n",
      "The password is valid.\n",
      "The process is finished. Thank you.\n"
     ]
    }
   ],
   "source": [
    "import re\n",
    "#p = input(\"Input your password\")\n",
    "#x = True\n",
    "while True:\n",
    "    p = input(\"Input your password\")\n",
    "    if (len(p)<6 or len(p)>12):\n",
    "        print(\"Not a Valid Password. Try again:\")\n",
    "        continue\n",
    "    elif not re.search(\"[a-z]\",p):\n",
    "        print(\"Not a Valid Password. Try again:\")\n",
    "        continue\n",
    "    elif not re.search(\"[0-9]\",p):\n",
    "        print(\"Not a Valid Password. Try again:\")\n",
    "        continue\n",
    "    elif not re.search(\"[A-Z]\",p):\n",
    "        print(\"Not a Valid Password. Try again:\")\n",
    "        continue\n",
    "    elif not re.search(\"[$#@]\",p):\n",
    "        print(\"Not a Valid Password. Try again:\")\n",
    "        continue\n",
    "    elif re.search(\"\\s\",p):\n",
    "        print(\"Not a Valid Password. Try again:\")\n",
    "        continue\n",
    "    else:\n",
    "        print(\"The password is valid.\")\n",
    "        break\n",
    "        \n",
    "print(\"The process is finished. Thank you.\")"
   ]
  },
  {
   "cell_type": "code",
   "execution_count": null,
   "metadata": {},
   "outputs": [],
   "source": []
  },
  {
   "cell_type": "code",
   "execution_count": 50,
   "metadata": {},
   "outputs": [
    {
     "name": "stdout",
     "output_type": "stream",
     "text": [
      "vsebuje\n"
     ]
    }
   ],
   "source": [
    "import re\n",
    "\n",
    "test = \"burek0\"\n",
    "jealni = re.search(\"[0-9]\",test)\n",
    "if jealni:\n",
    "    print(\"vsebuje\")\n",
    "    \n",
    "else:\n",
    "    print(\"ne vsebuje\")\n"
   ]
  },
  {
   "cell_type": "markdown",
   "metadata": {},
   "source": [
    "****"
   ]
  },
  {
   "cell_type": "markdown",
   "metadata": {},
   "source": [
    "# 4. For zanke"
   ]
  },
  {
   "cell_type": "code",
   "execution_count": 54,
   "metadata": {},
   "outputs": [
    {
     "name": "stdout",
     "output_type": "stream",
     "text": [
      "strojni\n",
      "numericne\n",
      "gradiva\n",
      "termodinamiko\n"
     ]
    }
   ],
   "source": [
    "predmeti = [\"strojni\", \"numericne\", \"gradiva\", \"termodinamiko\"]\n",
    "\n",
    "for predmet in predmeti:\n",
    "    print(predmet)"
   ]
  },
  {
   "cell_type": "code",
   "execution_count": 60,
   "metadata": {},
   "outputs": [
    {
     "ename": "TypeError",
     "evalue": "'float' object cannot be interpreted as an integer",
     "output_type": "error",
     "traceback": [
      "\u001b[1;31m---------------------------------------------------------------------------\u001b[0m",
      "\u001b[1;31mTypeError\u001b[0m                                 Traceback (most recent call last)",
      "\u001b[1;32m<ipython-input-60-69ffb61ef7cd>\u001b[0m in \u001b[0;36m<module>\u001b[1;34m\u001b[0m\n\u001b[1;32m----> 1\u001b[1;33m \u001b[1;32mfor\u001b[0m \u001b[0mi\u001b[0m \u001b[1;32min\u001b[0m \u001b[0mrange\u001b[0m\u001b[1;33m(\u001b[0m\u001b[1;36m0\u001b[0m\u001b[1;33m,\u001b[0m \u001b[1;36m15\u001b[0m\u001b[1;33m,\u001b[0m \u001b[1;36m0.5\u001b[0m\u001b[1;33m)\u001b[0m\u001b[1;33m:\u001b[0m\u001b[1;33m\u001b[0m\u001b[1;33m\u001b[0m\u001b[0m\n\u001b[0m\u001b[0;32m      2\u001b[0m     \u001b[0mprint\u001b[0m\u001b[1;33m(\u001b[0m\u001b[0mi\u001b[0m\u001b[1;33m)\u001b[0m\u001b[1;33m\u001b[0m\u001b[1;33m\u001b[0m\u001b[0m\n",
      "\u001b[1;31mTypeError\u001b[0m: 'float' object cannot be interpreted as an integer"
     ]
    }
   ],
   "source": [
    "for i in range(0, 15, 0.5):\n",
    "    print(i)"
   ]
  },
  {
   "cell_type": "code",
   "execution_count": 59,
   "metadata": {},
   "outputs": [
    {
     "name": "stdout",
     "output_type": "stream",
     "text": [
      "m\n",
      "i\n",
      "k\n",
      "r\n",
      "o\n",
      "f\n",
      "o\n",
      "n\n"
     ]
    }
   ],
   "source": [
    "string = \"mikrofon\"\n",
    "\n",
    "for crka in string:\n",
    "    print(crka)"
   ]
  },
  {
   "cell_type": "code",
   "execution_count": 64,
   "metadata": {},
   "outputs": [
    {
     "name": "stdout",
     "output_type": "stream",
     "text": [
      "strojni je označen s šetvilko 0\n",
      "numericne je označen s šetvilko 1\n",
      "gradiva je označen s šetvilko 2\n",
      "termodinamiko je označen s šetvilko 3\n"
     ]
    }
   ],
   "source": [
    "predmeti = [\"strojni\", \"numericne\", \"gradiva\", \"termodinamiko\"]\n",
    "\n",
    "for i,predmet in enumerate(predmeti):\n",
    "    print(predmet, \"je označen s šetvilko\", i)\n",
    "    "
   ]
  },
  {
   "cell_type": "markdown",
   "metadata": {},
   "source": [
    "## Break"
   ]
  },
  {
   "cell_type": "code",
   "execution_count": 65,
   "metadata": {},
   "outputs": [
    {
     "name": "stdout",
     "output_type": "stream",
     "text": [
      "a\n",
      "konec smo izven zanke\n"
     ]
    }
   ],
   "source": [
    "beseda = \"ananas\"\n",
    "\n",
    "for crka in beseda:\n",
    "    if crka==\"n\":\n",
    "        break\n",
    "    print(crka)\n",
    "    \n",
    "print(\"konec smo izven zanke\")"
   ]
  },
  {
   "cell_type": "markdown",
   "metadata": {},
   "source": [
    "## Continue"
   ]
  },
  {
   "cell_type": "code",
   "execution_count": 66,
   "metadata": {},
   "outputs": [
    {
     "name": "stdout",
     "output_type": "stream",
     "text": [
      "a\n",
      "a\n",
      "a\n",
      "s\n",
      "konec smo izven zanke\n"
     ]
    }
   ],
   "source": [
    "beseda = \"ananas\"\n",
    "\n",
    "for crka in beseda:\n",
    "    if crka==\"n\":\n",
    "        continue\n",
    "    print(crka)\n",
    "    \n",
    "print(\"konec smo izven zanke\")"
   ]
  },
  {
   "cell_type": "markdown",
   "metadata": {},
   "source": [
    "## Pass"
   ]
  },
  {
   "cell_type": "code",
   "execution_count": 67,
   "metadata": {},
   "outputs": [],
   "source": [
    "seznam = [1, 55, \"beseda\", 5.5]"
   ]
  },
  {
   "cell_type": "code",
   "execution_count": 68,
   "metadata": {},
   "outputs": [
    {
     "name": "stdout",
     "output_type": "stream",
     "text": [
      "1\n",
      "55\n",
      "5.5\n"
     ]
    }
   ],
   "source": [
    "for i in seznam:\n",
    "    if type(i) == str:\n",
    "        pass\n",
    "    else:\n",
    "        print(i)"
   ]
  },
  {
   "cell_type": "code",
   "execution_count": null,
   "metadata": {},
   "outputs": [],
   "source": []
  },
  {
   "cell_type": "code",
   "execution_count": 86,
   "metadata": {},
   "outputs": [],
   "source": [
    "n = 15"
   ]
  },
  {
   "cell_type": "code",
   "execution_count": 93,
   "metadata": {},
   "outputs": [
    {
     "name": "stdout",
     "output_type": "stream",
     "text": [
      "0.0\n",
      "0.5\n",
      "1.0\n",
      "1.5\n",
      "2.0\n",
      "2.5\n",
      "3.0\n",
      "3.5\n",
      "4.0\n",
      "4.5\n",
      "5.0\n",
      "5.5\n",
      "6.0\n",
      "6.5\n",
      "7.0\n"
     ]
    }
   ],
   "source": [
    "for i in range (15):\n",
    "    print(i*0.5)"
   ]
  },
  {
   "cell_type": "markdown",
   "metadata": {},
   "source": [
    "## Naloge"
   ]
  },
  {
   "cell_type": "markdown",
   "metadata": {},
   "source": [
    "## 1. Številska piramida"
   ]
  },
  {
   "cell_type": "markdown",
   "metadata": {},
   "source": [
    "Z uporabo for zanke izpiši sledeči vzorec:\n",
    "\n",
    "1 <br>\n",
    "22 <br>\n",
    "333<br>\n",
    "4444<br>\n",
    "55555<br>\n",
    "666666<br>\n",
    "7777777<br>\n",
    "88888888<br>\n",
    "999999999<br>"
   ]
  },
  {
   "cell_type": "code",
   "execution_count": 74,
   "metadata": {},
   "outputs": [
    {
     "name": "stdout",
     "output_type": "stream",
     "text": [
      "\n",
      "1\n",
      "22\n",
      "333\n",
      "4444\n",
      "55555\n",
      "666666\n",
      "7777777\n",
      "88888888\n",
      "999999999\n"
     ]
    }
   ],
   "source": [
    "for i in range(10):\n",
    "    print(str(i)*i)"
   ]
  },
  {
   "cell_type": "markdown",
   "metadata": {},
   "source": [
    "## 2. Kontrola črk\n"
   ]
  },
  {
   "cell_type": "markdown",
   "metadata": {},
   "source": [
    "Napiši program, ki uporabnika najprej upraša vpraša po nizu (stringu), in ta vrne koliko črk  \"c\"  vsebuje niz."
   ]
  },
  {
   "cell_type": "code",
   "execution_count": 75,
   "metadata": {},
   "outputs": [
    {
     "name": "stdout",
     "output_type": "stream",
     "text": [
      "Vpiši niz:cerknica\n",
      "cerknica vsebuje 2 črk c\n"
     ]
    }
   ],
   "source": [
    "niz = input(\"Vpiši niz:\")\n",
    "count = 0\n",
    "\n",
    "for crka in niz:\n",
    "    if crka == \"c\":\n",
    "        count += 1\n",
    "        \n",
    "print(niz, \"vsebuje\", count, \"črk c\")"
   ]
  },
  {
   "cell_type": "code",
   "execution_count": 76,
   "metadata": {},
   "outputs": [
    {
     "name": "stdout",
     "output_type": "stream",
     "text": [
      "Vpiši niz:cerknica\n"
     ]
    },
    {
     "data": {
      "text/plain": [
       "2"
      ]
     },
     "execution_count": 76,
     "metadata": {},
     "output_type": "execute_result"
    }
   ],
   "source": [
    "niz = input(\"Vpiši niz:\")\n",
    "niz.count(\"c\")"
   ]
  },
  {
   "cell_type": "code",
   "execution_count": null,
   "metadata": {},
   "outputs": [],
   "source": []
  },
  {
   "cell_type": "code",
   "execution_count": null,
   "metadata": {},
   "outputs": [],
   "source": []
  },
  {
   "cell_type": "markdown",
   "metadata": {},
   "source": [
    "## 3. Deljitelji števila"
   ]
  },
  {
   "cell_type": "markdown",
   "metadata": {},
   "source": [
    "Napiši program, ki sprejme poljubno število in vrne vse deljitelje števila."
   ]
  },
  {
   "cell_type": "code",
   "execution_count": 79,
   "metadata": {},
   "outputs": [
    {
     "name": "stdout",
     "output_type": "stream",
     "text": [
      "Vpiši število:10\n",
      "1\n",
      "2\n",
      "5\n",
      "10\n"
     ]
    }
   ],
   "source": [
    "n = int(input(\"Vpiši število:\"))\n",
    "\n",
    "for i in range(1, n+1):\n",
    "    if n % i == 0:\n",
    "        print(i)"
   ]
  },
  {
   "cell_type": "markdown",
   "metadata": {},
   "source": [
    "## 4. Fibonaccijevo zaporedje"
   ]
  },
  {
   "cell_type": "markdown",
   "metadata": {},
   "source": [
    "Fibonaccijevo zaporedje se začne z 1, 1 in vsak naslednji člen je vsota prejšnjih dveh. Torej prvih 10 členov se glasi:\n",
    "1\t1\t2\t3\t5\t8\t13\t21\t34\t55. Napiši program, ki izpiše prvih 20 členov zaporedja, nato pa še njihovo vsoto."
   ]
  },
  {
   "cell_type": "code",
   "execution_count": 82,
   "metadata": {},
   "outputs": [
    {
     "name": "stdout",
     "output_type": "stream",
     "text": [
      "1\n",
      "1\n",
      "2\n",
      "3\n",
      "5\n",
      "8\n",
      "13\n",
      "21\n",
      "34\n",
      "55\n",
      "89\n",
      "144\n",
      "233\n",
      "377\n",
      "610\n",
      "987\n",
      "1597\n",
      "2584\n",
      "4181\n",
      "6765\n",
      "vsota je 17710\n"
     ]
    }
   ],
   "source": [
    "a = b = 1\n",
    "\n",
    "n = 20\n",
    "\n",
    "count = 0\n",
    "\n",
    "for i in range(1, n+1):\n",
    "    print(a)\n",
    "    count += a\n",
    "    c = a + b\n",
    "    a = b\n",
    "    b = c \n",
    "    \n",
    "    \n",
    "print(\"vsota je\", count)"
   ]
  },
  {
   "cell_type": "markdown",
   "metadata": {},
   "source": [
    "## 4. Ali je praštevilo?"
   ]
  },
  {
   "cell_type": "code",
   "execution_count": 28,
   "metadata": {},
   "outputs": [
    {
     "name": "stdout",
     "output_type": "stream",
     "text": [
      "Vpiši število: 12\n",
      "Vpisano število ni praštevilo\n",
      "Konec programa\n"
     ]
    }
   ],
   "source": [
    "stevilo = int(input(\"Vpiši število: \"))\n",
    "\n",
    "for i in range(2, stevilo):\n",
    "    if stevilo % i == 0:\n",
    "        print(\"Vpisano število ni praštevilo\")\n",
    "        break\n",
    "        \n",
    "else:\n",
    "    print(\"Vpisano število je praštevilo\")   \n",
    "\n",
    "print(\"Konec programa\")"
   ]
  },
  {
   "cell_type": "markdown",
   "metadata": {},
   "source": [
    "Bodi pozoren na pozicijo else stavka! Tu se obnaša drugače kot pri <b>if</b> stavku, saj se namreč navezuje na <b>for</b> zanko!. Else stavek se izvrši le če se zanka popolnoma isteče. Če je zanka pretrgana z ```break``` se ne izpiše."
   ]
  },
  {
   "cell_type": "code",
   "execution_count": null,
   "metadata": {},
   "outputs": [],
   "source": []
  },
  {
   "cell_type": "markdown",
   "metadata": {},
   "source": [
    "## 5. Izpusti predmet"
   ]
  },
  {
   "cell_type": "code",
   "execution_count": 29,
   "metadata": {},
   "outputs": [
    {
     "name": "stdout",
     "output_type": "stream",
     "text": [
      "Danes se bom učil numerične\n",
      "Danes se bom učil mehanika\n"
     ]
    }
   ],
   "source": [
    "predmeti = [\"strojni\", \"gradiva\", \"numerične\", \"mehanika\"]\n",
    "\n",
    "for x in predmeti:\n",
    "    if (x == \"strojni\" or x == \"gradiva\"):\n",
    "        continue\n",
    "    print(\"Danes se bom učil\", x)"
   ]
  },
  {
   "cell_type": "markdown",
   "metadata": {},
   "source": [
    "## 2. Slavni fizzbuzz problem"
   ]
  },
  {
   "cell_type": "markdown",
   "metadata": {},
   "source": [
    "Zapiši program, ki iterira številke od 1 do 20. Če je število deljivo s 3 izpiši \"Fizz\", če je deljivo s 5 izpiši \"Buzz\", če pa je deljivo in s 3 in s 5 izpiši \"FizzBuzz\". "
   ]
  },
  {
   "cell_type": "code",
   "execution_count": 33,
   "metadata": {},
   "outputs": [
    {
     "name": "stdout",
     "output_type": "stream",
     "text": [
      "1\n",
      "2\n",
      "Fizz\n",
      "4\n",
      "Buzz\n",
      "Fizz\n",
      "7\n",
      "8\n",
      "Fizz\n",
      "Buzz\n",
      "11\n",
      "Fizz\n",
      "13\n",
      "14\n",
      "FizzBuzz\n",
      "16\n",
      "17\n",
      "Fizz\n",
      "19\n",
      "Buzz\n"
     ]
    }
   ],
   "source": [
    "for i in range(1, 21):\n",
    "    \n",
    "    if i % 3 == 0 and i % 5 == 0:\n",
    "        print(\"FizzBuzz\")\n",
    "        continue\n",
    "    elif i % 3 == 0:\n",
    "        print(\"Fizz\")\n",
    "        continue\n",
    "    elif i % 5 == 0:\n",
    "        print(\"Buzz\")\n",
    "        continue\n",
    "    else:\n",
    "        print(i)\n",
    "        \n",
    "        "
   ]
  },
  {
   "cell_type": "markdown",
   "metadata": {},
   "source": [
    "## 6. Ugani številko"
   ]
  },
  {
   "cell_type": "markdown",
   "metadata": {},
   "source": [
    "Napiši program, ki uporabnika upraša , daj ugane številko med 1 in 30, ki jo je naključno izbral računalnik. Uporabnik naj ima 6 poiskusov, program pa naj ga pri vsakem poizkusu pozove ali je številka previsoka ali prenizka."
   ]
  },
  {
   "cell_type": "markdown",
   "metadata": {},
   "source": [
    "Namig: za izbiro naključnega števila uporabite vgrajeno funkcijo ```random.randint(1, 30)```"
   ]
  },
  {
   "cell_type": "code",
   "execution_count": 34,
   "metadata": {},
   "outputs": [],
   "source": [
    "import random"
   ]
  },
  {
   "cell_type": "code",
   "execution_count": 45,
   "metadata": {},
   "outputs": [
    {
     "name": "stdout",
     "output_type": "stream",
     "text": [
      "To je tvoj 1 poizkus.\n",
      "Vpiši številko: 10\n",
      "Izbrana številka je prenizka\n",
      "To je tvoj 2 poizkus.\n",
      "Vpiši številko: 15\n",
      "Izbrana številka je previsoka\n",
      "To je tvoj 3 poizkus.\n",
      "Vpiši številko: 12\n",
      "Izbrana številka je prenizka\n",
      "To je tvoj 4 poizkus.\n",
      "Vpiši številko: 13\n",
      "uganil si številko\n"
     ]
    }
   ],
   "source": [
    "nakljucna = random.randint(1, 30)\n",
    "\n",
    "\n",
    "for i in range(6):\n",
    "    print(\"To je tvoj\", i+1, \"poizkus.\")\n",
    "    poizkus = int(input(\"Vpiši številko: \"))\n",
    "    if poizkus < nakljucna:\n",
    "        print(\"Izbrana številka je prenizka\")\n",
    "        continue\n",
    "    elif poizkus > nakljucna:\n",
    "        print(\"Izbrana številka je previsoka\")\n",
    "        continue\n",
    "    else:\n",
    "        break\n",
    "        \n",
    "if poizkus == nakljucna:\n",
    "    print(\"uganil si številko\")\n",
    "else:\n",
    "    print(\"zmanjkalo ti je poizkusov\")"
   ]
  },
  {
   "cell_type": "code",
   "execution_count": null,
   "metadata": {},
   "outputs": [],
   "source": []
  }
 ],
 "metadata": {
  "kernelspec": {
   "display_name": "Python 3",
   "language": "python",
   "name": "python3"
  },
  "language_info": {
   "codemirror_mode": {
    "name": "ipython",
    "version": 3
   },
   "file_extension": ".py",
   "mimetype": "text/x-python",
   "name": "python",
   "nbconvert_exporter": "python",
   "pygments_lexer": "ipython3",
   "version": "3.8.5"
  },
  "toc": {
   "base_numbering": 1,
   "nav_menu": {},
   "number_sections": true,
   "sideBar": true,
   "skip_h1_title": false,
   "title_cell": "Table of Contents",
   "title_sidebar": "Contents",
   "toc_cell": false,
   "toc_position": {},
   "toc_section_display": true,
   "toc_window_display": false
  }
 },
 "nbformat": 4,
 "nbformat_minor": 4
}
