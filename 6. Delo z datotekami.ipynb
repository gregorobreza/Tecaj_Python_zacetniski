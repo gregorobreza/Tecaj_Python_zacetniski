{
 "cells": [
  {
   "cell_type": "markdown",
   "metadata": {},
   "source": [
    "# Branje in ustvarjanje datotek"
   ]
  },
  {
   "cell_type": "code",
   "execution_count": null,
   "metadata": {},
   "outputs": [],
   "source": []
  },
  {
   "cell_type": "markdown",
   "metadata": {},
   "source": [
    "***"
   ]
  },
  {
   "cell_type": "markdown",
   "metadata": {},
   "source": [
    "# Naloge"
   ]
  },
  {
   "cell_type": "markdown",
   "metadata": {},
   "source": [
    "## Piši/beri"
   ]
  },
  {
   "cell_type": "markdown",
   "metadata": {},
   "source": [
    "Napiši funkcijo, ki kot argument sprejme ime datoteke, doda text v datoteko in nato še izpiše vsebino datoteke."
   ]
  },
  {
   "cell_type": "code",
   "execution_count": null,
   "metadata": {},
   "outputs": [],
   "source": []
  },
  {
   "cell_type": "markdown",
   "metadata": {},
   "source": [
    "## Družinsko drevo"
   ]
  },
  {
   "cell_type": "markdown",
   "metadata": {},
   "source": [
    "V\tdatoteki\tje\t shranjeno\tdružinsko\tdrevo:\tv\tvsaki\tvrstici\t sta\tpo\tdve\timeni,\tprvo\time\tje\toče\tali\tmati,\tdrugo\tje\time\totroka. Napiši funkcijo, ki kot argument sprejeme datoteko in izpiše slovar."
   ]
  },
  {
   "cell_type": "code",
   "execution_count": null,
   "metadata": {},
   "outputs": [],
   "source": []
  },
  {
   "cell_type": "markdown",
   "metadata": {},
   "source": [
    "Še brez if stavka z uporabo ```.setdefault()```."
   ]
  },
  {
   "cell_type": "code",
   "execution_count": null,
   "metadata": {},
   "outputs": [],
   "source": []
  },
  {
   "cell_type": "markdown",
   "metadata": {},
   "source": [
    "****"
   ]
  },
  {
   "cell_type": "markdown",
   "metadata": {},
   "source": [
    "# Python Operating System Services"
   ]
  },
  {
   "cell_type": "markdown",
   "metadata": {},
   "source": [
    "Vgrajen Python modul za delo z operacijskim sistemom. Več na [Python uradna dokumentacija](https://docs.python.org/3/library/os.html)"
   ]
  },
  {
   "cell_type": "code",
   "execution_count": null,
   "metadata": {},
   "outputs": [],
   "source": []
  },
  {
   "cell_type": "markdown",
   "metadata": {},
   "source": [
    "# Sortiraj datoteke v mapi (naloga)"
   ]
  },
  {
   "cell_type": "markdown",
   "metadata": {},
   "source": [
    "Napiši program, ki presortira tvojo mapo s prenosi. Kot argument , naj vzame slovar z željenimi mapami in končnicami, ter pot do tvoje mape s prenosi. Pri tej nalogi uporabi za izdelavo programa VSCode in nato uvozi program kot modul v Jupyter Notebook ter ga zaženi. "
   ]
  },
  {
   "cell_type": "code",
   "execution_count": null,
   "metadata": {},
   "outputs": [],
   "source": []
  },
  {
   "cell_type": "markdown",
   "metadata": {},
   "source": [
    "# Meme maker (naloga)"
   ]
  },
  {
   "cell_type": "markdown",
   "metadata": {},
   "source": [
    "Izdelaj program za izdelavo mem. Program naj torej sprejme sliko, to obreže na kvadrat, po želji skalira na željeno velikost, ter vstavi besedno zvezo na vrhu in na dnu slike.  "
   ]
  },
  {
   "cell_type": "code",
   "execution_count": null,
   "metadata": {},
   "outputs": [],
   "source": []
  }
 ],
 "metadata": {
  "kernelspec": {
   "display_name": "Python 3",
   "language": "python",
   "name": "python3"
  },
  "language_info": {
   "codemirror_mode": {
    "name": "ipython",
    "version": 3
   },
   "file_extension": ".py",
   "mimetype": "text/x-python",
   "name": "python",
   "nbconvert_exporter": "python",
   "pygments_lexer": "ipython3",
   "version": "3.8.5"
  }
 },
 "nbformat": 4,
 "nbformat_minor": 4
}
