{
 "cells": [
  {
   "cell_type": "markdown",
   "metadata": {},
   "source": [
    "# 1. Boolovi (logični) operatorji"
   ]
  },
  {
   "cell_type": "markdown",
   "metadata": {},
   "source": [
    "Imamo dve vrednosti ```True``` ali ```False```. Največ se uporabljavo v pogojnih stavkih in zankah, kjer preverjamo ali nekaj drži ali ne drži, ter na podlagi tega program deluje."
   ]
  },
  {
   "cell_type": "code",
   "execution_count": null,
   "metadata": {},
   "outputs": [],
   "source": []
  },
  {
   "cell_type": "markdown",
   "metadata": {},
   "source": [
    "***"
   ]
  },
  {
   "cell_type": "markdown",
   "metadata": {},
   "source": [
    "## Primerjalni operatorji"
   ]
  },
  {
   "cell_type": "code",
   "execution_count": null,
   "metadata": {},
   "outputs": [],
   "source": []
  },
  {
   "cell_type": "markdown",
   "metadata": {},
   "source": [
    "***"
   ]
  },
  {
   "cell_type": "markdown",
   "metadata": {},
   "source": [
    "# 2. If stavki"
   ]
  },
  {
   "cell_type": "code",
   "execution_count": null,
   "metadata": {},
   "outputs": [],
   "source": []
  },
  {
   "cell_type": "markdown",
   "metadata": {},
   "source": [
    "# Naloge"
   ]
  },
  {
   "cell_type": "markdown",
   "metadata": {},
   "source": [
    "## 1. Sodo ali liho"
   ]
  },
  {
   "cell_type": "markdown",
   "metadata": {},
   "source": [
    "Preveri ali je vneseno število sodo ali liho z uporabo if stavka."
   ]
  },
  {
   "cell_type": "code",
   "execution_count": null,
   "metadata": {},
   "outputs": [],
   "source": []
  },
  {
   "cell_type": "markdown",
   "metadata": {},
   "source": [
    "## 2. Ploščina trikotnika"
   ]
  },
  {
   "cell_type": "markdown",
   "metadata": {},
   "source": [
    "Ploščino trikotnika s stranicami a, b, c se lahko izračuna po Heronovem obrazcu:\n",
    "$p = \\sqrt{s(s-a)(s-b)(s-c)}$, kjer je s velikost polobsega: $s=\\frac{(a+b+c)}{2}$.\n",
    "\n",
    "\n",
    "Napiši program, ki upraša uporabnika po stranicah trikotnika in vrne ploščino. Prgram naj preveri smiselnost vnesenih podatkov (da trikotnik sploh lahko obstaja). "
   ]
  },
  {
   "cell_type": "code",
   "execution_count": null,
   "metadata": {},
   "outputs": [],
   "source": []
  },
  {
   "cell_type": "markdown",
   "metadata": {},
   "source": [
    "## 3. Izračun pasjih let "
   ]
  },
  {
   "cell_type": "markdown",
   "metadata": {},
   "source": [
    "Napiši Python program za izračun starosti psa v pasjih letih. Upoštevaj, da sta prvi dve pasji leti 10,5 človeških in po tem 4 človeške. Preveri tudi, da uporabnik ni vnesel negativnega števila. Ž"
   ]
  },
  {
   "cell_type": "code",
   "execution_count": null,
   "metadata": {},
   "outputs": [],
   "source": []
  },
  {
   "cell_type": "markdown",
   "metadata": {},
   "source": [
    "## 4. BMI"
   ]
  },
  {
   "cell_type": "markdown",
   "metadata": {},
   "source": [
    "Izdelaj BMI kalkulator, ki uporabnika upraša po višini [cm] in teži [kg], vrne pa index in v katerem področju se nahaja. Zgornja meja je 25, spodnja pa 18.5. \n",
    "\n",
    "Enačba (teža v kg, višina v m): $BMI = \\frac{m}{h^2}$  "
   ]
  },
  {
   "cell_type": "code",
   "execution_count": null,
   "metadata": {},
   "outputs": [],
   "source": []
  },
  {
   "cell_type": "markdown",
   "metadata": {},
   "source": [
    "*****"
   ]
  },
  {
   "cell_type": "markdown",
   "metadata": {},
   "source": [
    "# 3. While zanke"
   ]
  },
  {
   "cell_type": "code",
   "execution_count": null,
   "metadata": {},
   "outputs": [],
   "source": []
  },
  {
   "cell_type": "markdown",
   "metadata": {},
   "source": [
    "## Naloge"
   ]
  },
  {
   "cell_type": "markdown",
   "metadata": {},
   "source": [
    "## 1. Trgovina "
   ]
  },
  {
   "cell_type": "markdown",
   "metadata": {},
   "source": [
    "V trgovini po 3 morajo stranke vedno kupiti točno 3 artikle. Napiši program za blagajno z uporabo while zanke, ki upraša prodajalca po ceni artikla natanko trikrat. "
   ]
  },
  {
   "cell_type": "code",
   "execution_count": null,
   "metadata": {},
   "outputs": [],
   "source": []
  },
  {
   "cell_type": "markdown",
   "metadata": {},
   "source": [
    "## 2. Izbira varnega gesla "
   ]
  },
  {
   "cell_type": "markdown",
   "metadata": {},
   "source": [
    "Napišite program, ki bo preverjal vnešeno geslo ali je v skladu z naslednjimi zahtevami:\n",
    "- je daljše kot 6 znakov a krajše kot 12\n",
    "- vsebuje vsaj eno malo tiskano [a-z] in vsaj eno veliko [A-Z] tiskano črko\n",
    "- vsaj eno število [0-9]\n",
    "- vsaj eden izmed znakov [$#@]\n",
    "\n",
    "Pomembno! program naj sprašuje po geslu toliko časa dokler to ne bo v skladu z zahtevami. Bodi tudi pozoren , da gesnlo ne vsebuje presledkov!\n",
    "\n",
    "Namig: uporabi vgrajen modul ```re```"
   ]
  },
  {
   "cell_type": "code",
   "execution_count": null,
   "metadata": {},
   "outputs": [],
   "source": []
  },
  {
   "cell_type": "markdown",
   "metadata": {},
   "source": [
    "****"
   ]
  },
  {
   "cell_type": "markdown",
   "metadata": {},
   "source": [
    "# 4. For zanke"
   ]
  },
  {
   "cell_type": "code",
   "execution_count": null,
   "metadata": {},
   "outputs": [],
   "source": []
  },
  {
   "cell_type": "markdown",
   "metadata": {},
   "source": [
    "## Naloge"
   ]
  },
  {
   "cell_type": "markdown",
   "metadata": {},
   "source": [
    "## 1. Številska piramida"
   ]
  },
  {
   "cell_type": "code",
   "execution_count": null,
   "metadata": {},
   "outputs": [],
   "source": []
  },
  {
   "cell_type": "markdown",
   "metadata": {},
   "source": [
    "## 2. Kontrola črk\n"
   ]
  },
  {
   "cell_type": "markdown",
   "metadata": {},
   "source": [
    "Napiši program, ki uporabnika najprej upraša vpraša po nizu (stringu), in ta vrne koliko črk  \"c\"  vsebuje niz."
   ]
  },
  {
   "cell_type": "code",
   "execution_count": null,
   "metadata": {},
   "outputs": [],
   "source": []
  },
  {
   "cell_type": "markdown",
   "metadata": {},
   "source": [
    "## 3. Deljitelji števila"
   ]
  },
  {
   "cell_type": "markdown",
   "metadata": {},
   "source": [
    "Napiši program, ki sprejme poljubno število in vrne vse deljitelje števila."
   ]
  },
  {
   "cell_type": "code",
   "execution_count": null,
   "metadata": {},
   "outputs": [],
   "source": []
  },
  {
   "cell_type": "markdown",
   "metadata": {},
   "source": [
    "## 4. Fibonaccijevo zaporedje"
   ]
  },
  {
   "cell_type": "markdown",
   "metadata": {},
   "source": [
    "Fibonaccijevo zaporedje se začne z 1, 1 in vsak naslednji člen je vsota prejšnjih dveh. Torej prvih 10 členov se glasi:\n",
    "1\t1\t2\t3\t5\t8\t13\t21\t34\t55. Napiši program, ki izpiše prvih 20 členov zaporedja, nato pa še njihovo vsoto."
   ]
  },
  {
   "cell_type": "code",
   "execution_count": null,
   "metadata": {},
   "outputs": [],
   "source": []
  },
  {
   "cell_type": "markdown",
   "metadata": {},
   "source": [
    "## 4. Ali je praštevilo?"
   ]
  },
  {
   "cell_type": "code",
   "execution_count": null,
   "metadata": {},
   "outputs": [],
   "source": []
  },
  {
   "cell_type": "markdown",
   "metadata": {},
   "source": [
    "Bodi pozoren na pozicijo else stavka! Tu se obnaša drugače kot pri <b>if</b> stavku, saj se namreč navezuje na <b>for</b> zanko!. Else stavek se izvrši le če se zanka popolnoma isteče. Če je zanka pretrgana z ```break``` se ne izpiše."
   ]
  },
  {
   "cell_type": "code",
   "execution_count": null,
   "metadata": {},
   "outputs": [],
   "source": []
  },
  {
   "cell_type": "markdown",
   "metadata": {},
   "source": [
    "## 5. Izpusti predmet"
   ]
  },
  {
   "cell_type": "code",
   "execution_count": null,
   "metadata": {},
   "outputs": [],
   "source": []
  },
  {
   "cell_type": "markdown",
   "metadata": {},
   "source": [
    "## 2. Slavni fizzbuzz problem"
   ]
  },
  {
   "cell_type": "markdown",
   "metadata": {},
   "source": [
    "Zapiši program, ki iterira številke od 1 do 20. Če je število deljivo s 3 izpiši \"Fizz\", če je deljivo s 5 izpiši \"Buzz\", če pa je deljivo in s 3 in s 5 izpiši \"FizzBuzz\". "
   ]
  },
  {
   "cell_type": "code",
   "execution_count": null,
   "metadata": {},
   "outputs": [],
   "source": []
  },
  {
   "cell_type": "markdown",
   "metadata": {},
   "source": [
    "## 6. Ugani številko"
   ]
  },
  {
   "cell_type": "markdown",
   "metadata": {},
   "source": [
    "Napiši program, ki uporabnika upraša , daj ugane številko med 1 in 30, ki jo je naključno izbral računalnik. Uporabnik naj ima 6 poiskusov, program pa naj ga pri vsakem poizkusu pozove ali je številka previsoka ali prenizka."
   ]
  },
  {
   "cell_type": "markdown",
   "metadata": {},
   "source": [
    "Namig: za izbiro naključnega števila uporabite vgrajeno funkcijo ```random.randint(1, 30)```"
   ]
  },
  {
   "cell_type": "code",
   "execution_count": null,
   "metadata": {},
   "outputs": [],
   "source": []
  }
 ],
 "metadata": {
  "kernelspec": {
   "display_name": "Python 3",
   "language": "python",
   "name": "python3"
  },
  "language_info": {
   "codemirror_mode": {
    "name": "ipython",
    "version": 3
   },
   "file_extension": ".py",
   "mimetype": "text/x-python",
   "name": "python",
   "nbconvert_exporter": "python",
   "pygments_lexer": "ipython3",
   "version": "3.8.5"
  }
 },
 "nbformat": 4,
 "nbformat_minor": 4
}
